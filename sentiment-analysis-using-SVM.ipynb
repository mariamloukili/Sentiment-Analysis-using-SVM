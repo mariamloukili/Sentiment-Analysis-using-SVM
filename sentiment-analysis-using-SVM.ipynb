{
 "cells": [
  {
   "cell_type": "markdown",
   "metadata": {},
   "source": [
    "# Exploration de l'analyse des sentiments à l'aide des méthodes basées sur l'apprentissage automatique\n",
    "\n",
    "\n"
   ]
  },
  {
   "cell_type": "markdown",
   "metadata": {},
   "source": [
    "## Introduction"
   ]
  },
  {
   "cell_type": "markdown",
   "metadata": {},
   "source": [
    "##### Dataset :\n",
    "--  sentiment140 dataset. \n",
    "-- Elle contient 160k tweets extraits à l'aide de l'API Twitter. Les tweets ont été annotés (0 = négatif, 1 = positif) et ils peuvent être utilisés pour détecter les sentiments.\n",
    "\n",
    "#### Contenu du Dataset :\n",
    "\n",
    "Elle contient 6 champs :\n",
    "\n",
    "target: la polarité du tweet (0 = negative, 1 = positive)\n",
    "\n",
    "ids: L'id du tweet ( 2087)\n",
    "\n",
    "date: la date du tweet (Sat May 16 23:58:44 UTC 2009)\n",
    "\n",
    "flag: La requête (lyx). S'il n'y a pas de requête, la valeur sera NO_QUERY\n",
    "\n",
    "user: Nom de l’utilisateur qui a tweeté (robotickilldozr)\n",
    "\n",
    "text: Le text du Tweet (Lyx is cool)"
   ]
  },
  {
   "cell_type": "markdown",
   "metadata": {},
   "source": [
    "## Objectifs\n",
    "-- calculer si les tweets sont positifs ou négatifs\n",
    "\n",
    "-- Prédire le sentiment de ces tweets en utilisant SVM "
   ]
  },
  {
   "cell_type": "markdown",
   "metadata": {
    "colab": {
     "base_uri": "https://localhost:8080/",
     "height": 122
    },
    "colab_type": "code",
    "id": "GaVIBWlyoKz3",
    "outputId": "09397fbf-902d-4115-8fcb-aeeab2b6e974"
   },
   "source": [
    "### - Lexicon based\n",
    "L’approche à base de règles (ou l’approche à base de lexique) définit un ensemble de règles\n",
    "qui identifie la subjectivité, la polarité ou le sujet d’un opinion."
   ]
  },
  {
   "cell_type": "markdown",
   "metadata": {
    "colab_type": "text",
    "id": "efyTtfc_oJkh"
   },
   "source": [
    "## 1. importer les packages nécessaires"
   ]
  },
  {
   "cell_type": "code",
   "execution_count": 1,
   "metadata": {},
   "outputs": [],
   "source": [
    "import pandas as pd\n",
    "import collections\n",
    "%matplotlib inline\n",
    "\n",
    "from sklearn.model_selection import train_test_split\n",
    "from sklearn.feature_extraction.text import CountVectorizer\n",
    "from sklearn.svm import SVC\n",
    "from sklearn.metrics import confusion_matrix\n",
    "from sklearn.metrics import accuracy_score"
   ]
  },
  {
   "cell_type": "markdown",
   "metadata": {
    "colab_type": "text",
    "id": "YLttTMckfNa_"
   },
   "source": [
    "## 2. Loading Data ##"
   ]
  },
  {
   "cell_type": "code",
   "execution_count": 2,
   "metadata": {},
   "outputs": [
    {
     "data": {
      "text/html": [
       "<div>\n",
       "<style scoped>\n",
       "    .dataframe tbody tr th:only-of-type {\n",
       "        vertical-align: middle;\n",
       "    }\n",
       "\n",
       "    .dataframe tbody tr th {\n",
       "        vertical-align: top;\n",
       "    }\n",
       "\n",
       "    .dataframe thead th {\n",
       "        text-align: right;\n",
       "    }\n",
       "</style>\n",
       "<table border=\"1\" class=\"dataframe\">\n",
       "  <thead>\n",
       "    <tr style=\"text-align: right;\">\n",
       "      <th></th>\n",
       "      <th>target</th>\n",
       "      <th>ids</th>\n",
       "      <th>user</th>\n",
       "      <th>text</th>\n",
       "    </tr>\n",
       "  </thead>\n",
       "  <tbody>\n",
       "    <tr>\n",
       "      <th>0</th>\n",
       "      <td>p</td>\n",
       "      <td>1978186076</td>\n",
       "      <td>ceruleanbreeze</td>\n",
       "      <td>@nocturnalie Anyway, and now Abby and I share ...</td>\n",
       "    </tr>\n",
       "    <tr>\n",
       "      <th>1</th>\n",
       "      <td>p</td>\n",
       "      <td>1994697891</td>\n",
       "      <td>enthusiasticjen</td>\n",
       "      <td>@JoeGigantino Few times I'm trying to leave co...</td>\n",
       "    </tr>\n",
       "    <tr>\n",
       "      <th>2</th>\n",
       "      <td>p</td>\n",
       "      <td>2191885992</td>\n",
       "      <td>LifeRemixed</td>\n",
       "      <td>@AngieGriffin Good Morning Angie  I'll be in t...</td>\n",
       "    </tr>\n",
       "    <tr>\n",
       "      <th>3</th>\n",
       "      <td>p</td>\n",
       "      <td>1753662211</td>\n",
       "      <td>lovemandy</td>\n",
       "      <td>had a good day driving up mountains, visiting ...</td>\n",
       "    </tr>\n",
       "    <tr>\n",
       "      <th>4</th>\n",
       "      <td>p</td>\n",
       "      <td>2177442789</td>\n",
       "      <td>_LOVELYmanu</td>\n",
       "      <td>downloading some songs  i love lady GaGa.</td>\n",
       "    </tr>\n",
       "  </tbody>\n",
       "</table>\n",
       "</div>"
      ],
      "text/plain": [
       "  target         ids             user  \\\n",
       "0      p  1978186076   ceruleanbreeze   \n",
       "1      p  1994697891  enthusiasticjen   \n",
       "2      p  2191885992      LifeRemixed   \n",
       "3      p  1753662211        lovemandy   \n",
       "4      p  2177442789      _LOVELYmanu   \n",
       "\n",
       "                                                text  \n",
       "0  @nocturnalie Anyway, and now Abby and I share ...  \n",
       "1  @JoeGigantino Few times I'm trying to leave co...  \n",
       "2  @AngieGriffin Good Morning Angie  I'll be in t...  \n",
       "3  had a good day driving up mountains, visiting ...  \n",
       "4          downloading some songs  i love lady GaGa.  "
      ]
     },
     "execution_count": 2,
     "metadata": {},
     "output_type": "execute_result"
    }
   ],
   "source": [
    "\n",
    "### Chargement des données\n",
    "\n",
    "\n",
    "DATA = './data/'\n",
    "trainData = DATA + 'sentiment140_160k_tweets_train.csv'\n",
    "\n",
    "\n",
    "train = pd.read_csv(trainData)\n",
    "\n",
    "\n",
    "train.head()"
   ]
  },
  {
   "cell_type": "markdown",
   "metadata": {
    "colab_type": "text",
    "id": "DE0NVFR9s4o4"
   },
   "source": [
    "##### Compter le nombre du texte positif et négatif :"
   ]
  },
  {
   "cell_type": "code",
   "execution_count": 3,
   "metadata": {},
   "outputs": [
    {
     "data": {
      "text/plain": [
       "Counter({'p': 80000, 'n': 79985})"
      ]
     },
     "execution_count": 3,
     "metadata": {},
     "output_type": "execute_result"
    }
   ],
   "source": [
    "collections.Counter(train['target'])"
   ]
  },
  {
   "cell_type": "markdown",
   "metadata": {},
   "source": [
    "#### Visualiser la distribution graphiquement :"
   ]
  },
  {
   "cell_type": "code",
   "execution_count": 4,
   "metadata": {},
   "outputs": [
    {
     "data": {
      "text/plain": [
       "<matplotlib.axes._subplots.AxesSubplot at 0x123b355b3d0>"
      ]
     },
     "execution_count": 4,
     "metadata": {},
     "output_type": "execute_result"
    },
    {
     "data": {
      "image/png": "[encoded data removed]",
      "text/plain": [
       "<Figure size 432x288 with 1 Axes>"
      ]
     },
     "metadata": {
      "needs_background": "light"
     },
     "output_type": "display_data"
    }
   ],
   "source": [
    "train.groupby('target').size().plot(kind='bar')"
   ]
  },
  {
   "cell_type": "markdown",
   "metadata": {
    "colab_type": "text",
    "id": "xyHV7gCCxCpO"
   },
   "source": [
    "#### On remarque qu'il s'agit d'un ensemble de données relativement bien équilibré"
   ]
  },
  {
   "cell_type": "markdown",
   "metadata": {
    "colab_type": "text",
    "id": "5RK3QPUnbUFq"
   },
   "source": [
    "## 3. Data (Text) Preprocessing "
   ]
  },
  {
   "cell_type": "markdown",
   "metadata": {},
   "source": [
    "#### Création du dictionnaire qui contient des mots avec opostrophes\n",
    "#### Normalisation  et suppression des apostrophes"
   ]
  },
  {
   "cell_type": "code",
   "execution_count": 5,
   "metadata": {},
   "outputs": [],
   "source": [
    "### mapping a dictionary of apostrophe words\n",
    "\n",
    "appos = {\n",
    "\"aren't\" : \"are not\",\n",
    "\"can't\" : \"cannot\",\n",
    "\"cant\" : \"cannot\",\n",
    "\"couldn't\" : \"could not\",\n",
    "\"didn't\" : \"did not\",\n",
    "\"doesn't\" : \"does not\",\n",
    "\"don't\" : \"do not\",\n",
    "\"hadn't\" : \"had not\",\n",
    "\"hasn't\" : \"has not\",\n",
    "\"haven't\" : \"have not\",\n",
    "\"he'd\" : \"he would\",\n",
    "\"he'll\" : \"he will\",\n",
    "\"he's\" : \"he is\",\n",
    "\"i'd\" : \"I would\",\n",
    "\"i'd\" : \"I had\",\n",
    "\"i'll\" : \"I will\",\n",
    "\"i'm\" : \"I am\",\n",
    "\"im\" : \"I am\",\n",
    "\"isn't\" : \"is not\",\n",
    "\"it's\" : \"it is\",\n",
    "\"it'll\":\"it will\",\n",
    "\"i've\" : \"I have\",\n",
    "\"let's\" : \"let us\",\n",
    "\"mightn't\" : \"might not\",\n",
    "\"mustn't\" : \"must not\",\n",
    "\"shan't\" : \"shall not\",\n",
    "\"she'd\" : \"she would\",\n",
    "\"she'll\" : \"she will\",\n",
    "\"she's\" : \"she is\",\n",
    "\"shouldn't\" : \"should not\",\n",
    "\"that's\" : \"that is\",\n",
    "\"there's\" : \"there is\",\n",
    "\"they'd\" : \"they would\",\n",
    "\"they'll\" : \"they will\",\n",
    "\"they're\" : \"they are\",\n",
    "\"they've\" : \"they have\",\n",
    "\"we'd\" : \"we would\",\n",
    "\"we're\" : \"we are\",\n",
    "\"weren't\" : \"were not\",\n",
    "\"we've\" : \"we have\",\n",
    "\"what'll\" : \"what will\",\n",
    "\"what're\" : \"what are\",\n",
    "\"what's\" : \"what is\",\n",
    "\"what've\" : \"what have\",\n",
    "\"where's\" : \"where is\",\n",
    "\"who'd\" : \"who would\",\n",
    "\"who'll\" : \"who will\",\n",
    "\"who're\" : \"who are\",\n",
    "\"who's\" : \"who is\",\n",
    "\"who've\" : \"who have\",\n",
    "\"won't\" : \"will not\",\n",
    "\"wouldn't\" : \"would not\",\n",
    "\"you'd\" : \"you would\",\n",
    "\"you'll\" : \"you will\",\n",
    "\"you're\" : \"you are\",\n",
    "\"you've\" : \"you have\",\n",
    "\"'re\": \" are\",\n",
    "\"wasn't\": \"was not\",\n",
    "\"we'll\":\" will\",\n",
    "\"didn't\": \"did not\",\n",
    "\"gg\" : \"going\"\n",
    "}"
   ]
  },
  {
   "cell_type": "markdown",
   "metadata": {},
   "source": [
    "#### Utilisation du regex"
   ]
  },
  {
   "cell_type": "markdown",
   "metadata": {},
   "source": [
    "- Supprimer les ponctuations\n",
    "- transformer le texte en minuscule\n",
    "- supprimer les espaces\n",
    "- supprimer les caractères spéciaux, les emojis...\n",
    "- supprimer les oppostrophes en utlisant le dictionnaire qu'on a définit précedemment\n",
    "\n"
   ]
  },
  {
   "cell_type": "markdown",
   "metadata": {},
   "source": [
    "- On applique le preprocessing sur notre text et on ajoute un champs qui s appelle ugc qui contient un texte bien nettoyé"
   ]
  },
  {
   "cell_type": "code",
   "execution_count": 6,
   "metadata": {},
   "outputs": [
    {
     "data": {
      "text/html": [
       "<div>\n",
       "<style scoped>\n",
       "    .dataframe tbody tr th:only-of-type {\n",
       "        vertical-align: middle;\n",
       "    }\n",
       "\n",
       "    .dataframe tbody tr th {\n",
       "        vertical-align: top;\n",
       "    }\n",
       "\n",
       "    .dataframe thead th {\n",
       "        text-align: right;\n",
       "    }\n",
       "</style>\n",
       "<table border=\"1\" class=\"dataframe\">\n",
       "  <thead>\n",
       "    <tr style=\"text-align: right;\">\n",
       "      <th></th>\n",
       "      <th>target</th>\n",
       "      <th>ids</th>\n",
       "      <th>user</th>\n",
       "      <th>text</th>\n",
       "      <th>ugc</th>\n",
       "    </tr>\n",
       "  </thead>\n",
       "  <tbody>\n",
       "    <tr>\n",
       "      <th>0</th>\n",
       "      <td>p</td>\n",
       "      <td>1978186076</td>\n",
       "      <td>ceruleanbreeze</td>\n",
       "      <td>@nocturnalie Anyway, and now Abby and I share ...</td>\n",
       "      <td>anyway and now abby and i share all our crops ...</td>\n",
       "    </tr>\n",
       "    <tr>\n",
       "      <th>1</th>\n",
       "      <td>p</td>\n",
       "      <td>1994697891</td>\n",
       "      <td>enthusiasticjen</td>\n",
       "      <td>@JoeGigantino Few times I'm trying to leave co...</td>\n",
       "      <td>few times I am trying to leave comments in you...</td>\n",
       "    </tr>\n",
       "    <tr>\n",
       "      <th>2</th>\n",
       "      <td>p</td>\n",
       "      <td>2191885992</td>\n",
       "      <td>LifeRemixed</td>\n",
       "      <td>@AngieGriffin Good Morning Angie  I'll be in t...</td>\n",
       "      <td>good morning angie I will be in the atl july 8...</td>\n",
       "    </tr>\n",
       "    <tr>\n",
       "      <th>3</th>\n",
       "      <td>p</td>\n",
       "      <td>1753662211</td>\n",
       "      <td>lovemandy</td>\n",
       "      <td>had a good day driving up mountains, visiting ...</td>\n",
       "      <td>had a good day driving up mountains visiting k...</td>\n",
       "    </tr>\n",
       "    <tr>\n",
       "      <th>4</th>\n",
       "      <td>p</td>\n",
       "      <td>2177442789</td>\n",
       "      <td>_LOVELYmanu</td>\n",
       "      <td>downloading some songs  i love lady GaGa.</td>\n",
       "      <td>downloading some songs i love lady gaga</td>\n",
       "    </tr>\n",
       "  </tbody>\n",
       "</table>\n",
       "</div>"
      ],
      "text/plain": [
       "  target         ids             user  \\\n",
       "0      p  1978186076   ceruleanbreeze   \n",
       "1      p  1994697891  enthusiasticjen   \n",
       "2      p  2191885992      LifeRemixed   \n",
       "3      p  1753662211        lovemandy   \n",
       "4      p  2177442789      _LOVELYmanu   \n",
       "\n",
       "                                                text  \\\n",
       "0  @nocturnalie Anyway, and now Abby and I share ...   \n",
       "1  @JoeGigantino Few times I'm trying to leave co...   \n",
       "2  @AngieGriffin Good Morning Angie  I'll be in t...   \n",
       "3  had a good day driving up mountains, visiting ...   \n",
       "4          downloading some songs  i love lady GaGa.   \n",
       "\n",
       "                                                 ugc  \n",
       "0  anyway and now abby and i share all our crops ...  \n",
       "1  few times I am trying to leave comments in you...  \n",
       "2  good morning angie I will be in the atl july 8...  \n",
       "3  had a good day driving up mountains visiting k...  \n",
       "4            downloading some songs i love lady gaga  "
      ]
     },
     "execution_count": 6,
     "metadata": {},
     "output_type": "execute_result"
    }
   ],
   "source": [
    "import re\n",
    "\n",
    "def preprocess_text(sentence):\n",
    "    text = re.sub('((www\\.[^\\s]+)|(https?://[^\\s]+))','', sentence['text'])\n",
    "    text = re.sub('@[^\\s]+','', text)\n",
    "    text = text.lower().split()\n",
    "    reformed = [appos[word] if word in appos else word for word in text]\n",
    "    reformed = \" \".join(reformed) \n",
    "    text = re.sub('&[^\\s]+;', '', reformed)\n",
    "    text = re.sub('[^a-zA-Zа-яА-Я1-9]+', ' ', text)\n",
    "    text = re.sub(' +',' ', text)\n",
    "    #text = re.sub(' [\\w] ', ' ', text)\n",
    "    return text.strip()\n",
    "\n",
    "preprocess = train.copy()\n",
    "preprocess['ugc'] = preprocess.apply(preprocess_text, axis=1)\n",
    "\n",
    "preprocess.head()"
   ]
  },
  {
   "cell_type": "markdown",
   "metadata": {},
   "source": [
    "## 4. Analyse des sentiments par une méthode basée sur l'apprentissage automatique : SVM linéaire"
   ]
  },
  {
   "cell_type": "markdown",
   "metadata": {},
   "source": [
    "* Support Vector Machine (SVM) est un autre algorithme brillant dans l'apprentissage supervisé, c'est une sorte d'algorithme ML supervisé qui est utilisé pour la classification et l'analyse de régression des données, bien que SVM soit surtout utilisé pour la classification."
   ]
  },
  {
   "cell_type": "code",
   "execution_count": 7,
   "metadata": {},
   "outputs": [
    {
     "name": "stdout",
     "output_type": "stream",
     "text": [
      "(127988,)\n",
      "(31997,)\n"
     ]
    }
   ],
   "source": [
    "# Définir X et y à partir du dataset \"preprocess\" pour l'utiliser dans un COUNTVECTORIZER \n",
    "X = preprocess['ugc']\n",
    "y = preprocess['target']\n",
    "\n",
    "# diviser X and y en training and testing sets\n",
    "x_train, x_test, y_train, y_test = train_test_split(X, y, test_size = 0.2, shuffle=True)\n",
    "\n",
    "print(x_train.shape)\n",
    "print(x_test.shape)"
   ]
  },
  {
   "cell_type": "markdown",
   "metadata": {},
   "source": [
    "#### Vectoriser les tweets à l'aide de CountVectorizer"
   ]
  },
  {
   "cell_type": "markdown",
   "metadata": {},
   "source": [
    "* Vectoriser le dataset : Transformer les données se forme des données numériques\n",
    "* Vectoriser les tweets pour la construction de modèle"
   ]
  },
  {
   "cell_type": "markdown",
   "metadata": {},
   "source": [
    "*Exemple de CountVectorizer* :"
   ]
  },
  {
   "cell_type": "code",
   "execution_count": 9,
   "metadata": {},
   "outputs": [
    {
     "data": {
      "text/html": [
       "<div>\n",
       "<style scoped>\n",
       "    .dataframe tbody tr th:only-of-type {\n",
       "        vertical-align: middle;\n",
       "    }\n",
       "\n",
       "    .dataframe tbody tr th {\n",
       "        vertical-align: top;\n",
       "    }\n",
       "\n",
       "    .dataframe thead th {\n",
       "        text-align: right;\n",
       "    }\n",
       "</style>\n",
       "<table border=\"1\" class=\"dataframe\">\n",
       "  <thead>\n",
       "    <tr style=\"text-align: right;\">\n",
       "      <th></th>\n",
       "      <th>and</th>\n",
       "      <th>channel</th>\n",
       "      <th>data</th>\n",
       "      <th>fun</th>\n",
       "      <th>import</th>\n",
       "      <th>is</th>\n",
       "      <th>it</th>\n",
       "      <th>my</th>\n",
       "      <th>passion</th>\n",
       "      <th>please</th>\n",
       "      <th>science</th>\n",
       "      <th>subscribe</th>\n",
       "      <th>this</th>\n",
       "      <th>to</th>\n",
       "      <th>youtube</th>\n",
       "    </tr>\n",
       "  </thead>\n",
       "  <tbody>\n",
       "    <tr>\n",
       "      <th>0</th>\n",
       "      <td>0</td>\n",
       "      <td>1</td>\n",
       "      <td>1</td>\n",
       "      <td>0</td>\n",
       "      <td>1</td>\n",
       "      <td>1</td>\n",
       "      <td>0</td>\n",
       "      <td>0</td>\n",
       "      <td>0</td>\n",
       "      <td>0</td>\n",
       "      <td>0</td>\n",
       "      <td>0</td>\n",
       "      <td>1</td>\n",
       "      <td>0</td>\n",
       "      <td>1</td>\n",
       "    </tr>\n",
       "    <tr>\n",
       "      <th>1</th>\n",
       "      <td>1</td>\n",
       "      <td>0</td>\n",
       "      <td>1</td>\n",
       "      <td>1</td>\n",
       "      <td>0</td>\n",
       "      <td>2</td>\n",
       "      <td>1</td>\n",
       "      <td>1</td>\n",
       "      <td>1</td>\n",
       "      <td>0</td>\n",
       "      <td>1</td>\n",
       "      <td>0</td>\n",
       "      <td>0</td>\n",
       "      <td>0</td>\n",
       "      <td>0</td>\n",
       "    </tr>\n",
       "    <tr>\n",
       "      <th>2</th>\n",
       "      <td>0</td>\n",
       "      <td>1</td>\n",
       "      <td>0</td>\n",
       "      <td>0</td>\n",
       "      <td>0</td>\n",
       "      <td>0</td>\n",
       "      <td>0</td>\n",
       "      <td>1</td>\n",
       "      <td>0</td>\n",
       "      <td>1</td>\n",
       "      <td>0</td>\n",
       "      <td>1</td>\n",
       "      <td>0</td>\n",
       "      <td>1</td>\n",
       "      <td>0</td>\n",
       "    </tr>\n",
       "  </tbody>\n",
       "</table>\n",
       "</div>"
      ],
      "text/plain": [
       "   and  channel  data  fun  import  is  it  my  passion  please  science  \\\n",
       "0    0        1     1    0       1   1   0   0        0       0        0   \n",
       "1    1        0     1    1       0   2   1   1        1       0        1   \n",
       "2    0        1     0    0       0   0   0   1        0       1        0   \n",
       "\n",
       "   subscribe  this  to  youtube  \n",
       "0          0     1   0        1  \n",
       "1          0     0   0        0  \n",
       "2          1     0   1        0  "
      ]
     },
     "execution_count": 9,
     "metadata": {},
     "output_type": "execute_result"
    }
   ],
   "source": [
    "documents = [\"This is Import Data's Youtube channel\",\n",
    "             \"Data science is my passion and it is fun!\",\n",
    "             \"Please subscribe to my channel\"]\n",
    "\n",
    "# l'initialisation de countvectorizer\n",
    "vectorizer = CountVectorizer()\n",
    "\n",
    "# Tokenize et transformer les documents en matrice document-term\n",
    "document_term_matrix = vectorizer.fit_transform(documents)\n",
    "\n",
    "# Vérifier le résultat\n",
    "pd.DataFrame(document_term_matrix.toarray(), columns = vectorizer.get_feature_names())"
   ]
  },
  {
   "cell_type": "markdown",
   "metadata": {},
   "source": [
    "*Appliquer sur les tweets* :"
   ]
  },
  {
   "cell_type": "code",
   "execution_count": 12,
   "metadata": {},
   "outputs": [
    {
     "data": {
      "text/plain": [
       "69215"
      ]
     },
     "execution_count": 12,
     "metadata": {},
     "output_type": "execute_result"
    }
   ],
   "source": [
    "# l'initialisation de countvectorizer\n",
    "vectorizer = CountVectorizer(binary=True, stop_words='english')\n",
    "\n",
    "# Apprendre un dictionnaire de vocabulaire de tous les jetons dans les documents bruts\n",
    "vectorizer.fit(list(x_train) + list(x_test))\n",
    "\n",
    "# transformer les documents en matrice document-term\n",
    "x_train_vec = vectorizer.transform(x_train)\n",
    "x_test_vec = vectorizer.transform(x_test)\n",
    "\n",
    "# Quel est le nombre de caractéristiques (features) dégagé ?\n",
    "len(vectorizer.get_feature_names())"
   ]
  },
  {
   "cell_type": "markdown",
   "metadata": {},
   "source": [
    "#### Construction de modèle"
   ]
  },
  {
   "cell_type": "code",
   "execution_count": 13,
   "metadata": {},
   "outputs": [
    {
     "data": {
      "text/plain": [
       "SVC(kernel='linear', random_state=0)"
      ]
     },
     "execution_count": 13,
     "metadata": {},
     "output_type": "execute_result"
    }
   ],
   "source": [
    "# Créer un classifier SVC en utilisant un kernel linéaire\n",
    "classifier = SVC(kernel='linear', random_state= 0) # Pour un ensemble de données linéairement séparable, on pourrait utiliser \n",
    "                                                   # la fonction de kernel linéaire et on met (kernel=\"linear\")\n",
    "\n",
    "# Entraîner le classifier\n",
    "classifier.fit(x_train_vec, y_train)"
   ]
  },
  {
   "cell_type": "markdown",
   "metadata": {},
   "source": [
    "#### Afficher le score de prédiction"
   ]
  },
  {
   "cell_type": "code",
   "execution_count": 14,
   "metadata": {},
   "outputs": [
    {
     "name": "stdout",
     "output_type": "stream",
     "text": [
      "Accuracy score for SVC is:  74.8538925524268 %\n"
     ]
    }
   ],
   "source": [
    "y_pred = classifier.predict(x_test_vec)\n",
    "\n",
    "# Afficher le score de précision\n",
    "print(\"Accuracy score for SVC is: \", accuracy_score(y_test, y_pred) * 100, '%')"
   ]
  },
  {
   "cell_type": "markdown",
   "metadata": {},
   "source": [
    "#### Afficher la matrice de confusion"
   ]
  },
  {
   "cell_type": "code",
   "execution_count": 15,
   "metadata": {
    "scrolled": true
   },
   "outputs": [
    {
     "name": "stdout",
     "output_type": "stream",
     "text": [
      "[[11608  3644]\n",
      " [ 4402 12343]]\n"
     ]
    }
   ],
   "source": [
    "# tableau pour décrire la performance de ce modèle de classification \n",
    "cm = confusion_matrix(y_pred,y_test)\n",
    "print(cm)"
   ]
  }
 ],
 "metadata": {
  "kernelspec": {
   "display_name": "Python 3",
   "language": "python",
   "name": "python3"
  },
  "language_info": {
   "codemirror_mode": {
    "name": "ipython",
    "version": 3
   },
   "file_extension": ".py",
   "mimetype": "text/x-python",
   "name": "python",
   "nbconvert_exporter": "python",
   "pygments_lexer": "ipython3",
   "version": "3.8.3"
  }
 },
 "nbformat": 4,
 "nbformat_minor": 4
}
